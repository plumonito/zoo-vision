{
 "cells": [
  {
   "cell_type": "code",
   "execution_count": 1,
   "metadata": {},
   "outputs": [
    {
     "name": "stderr",
     "output_type": "stream",
     "text": [
      "2025-01-13 23:26:25.361731: I tensorflow/core/util/port.cc:153] oneDNN custom operations are on. You may see slightly different numerical results due to floating-point round-off errors from different computation orders. To turn them off, set the environment variable `TF_ENABLE_ONEDNN_OPTS=0`.\n",
      "2025-01-13 23:26:25.371360: E external/local_xla/xla/stream_executor/cuda/cuda_fft.cc:477] Unable to register cuFFT factory: Attempting to register factory for plugin cuFFT when one has already been registered\n",
      "WARNING: All log messages before absl::InitializeLog() is called are written to STDERR\n",
      "E0000 00:00:1736807185.381725  354528 cuda_dnn.cc:8310] Unable to register cuDNN factory: Attempting to register factory for plugin cuDNN when one has already been registered\n",
      "E0000 00:00:1736807185.384817  354528 cuda_blas.cc:1418] Unable to register cuBLAS factory: Attempting to register factory for plugin cuBLAS when one has already been registered\n",
      "2025-01-13 23:26:25.397042: I tensorflow/core/platform/cpu_feature_guard.cc:210] This TensorFlow binary is optimized to use available CPU instructions in performance-critical operations.\n",
      "To enable the following instructions: AVX2 AVX512F AVX512_VNNI AVX512_BF16 FMA, in other operations, rebuild TensorFlow with the appropriate compiler flags.\n"
     ]
    }
   ],
   "source": [
    "# Load the TensorBoard notebook extension.\n",
    "%load_ext tensorboard\n",
    "import tensorflow as tf\n",
    "import numpy as np\n",
    "from  datetime import datetime"
   ]
  },
  {
   "cell_type": "code",
   "execution_count": 2,
   "metadata": {},
   "outputs": [
    {
     "name": "stderr",
     "output_type": "stream",
     "text": [
      "I0000 00:00:1736807192.282409  354528 gpu_device.cc:2022] Created device /job:localhost/replica:0/task:0/device:GPU:0 with 8829 MB memory:  -> device: 0, name: NVIDIA GeForce RTX 4070 SUPER, pci bus id: 0000:01:00.0, compute capability: 8.9\n"
     ]
    }
   ],
   "source": [
    "model = tf.saved_model.load(\"../models/camera0/segmentation/saved_model\")"
   ]
  },
  {
   "cell_type": "code",
   "execution_count": 3,
   "metadata": {},
   "outputs": [
    {
     "data": {
      "text/plain": [
       "((),\n",
       " {'input_anchors': TensorSpec(shape=(None, None, 4), dtype=tf.float32, name='input_anchors'),\n",
       "  'input_image': TensorSpec(shape=(None, None, None, 3), dtype=tf.float32, name='input_image'),\n",
       "  'input_image_meta': TensorSpec(shape=(None, 14), dtype=tf.float32, name='input_image_meta')})"
      ]
     },
     "metadata": {},
     "output_type": "display_data"
    },
    {
     "data": {
      "text/plain": [
       "((),\n",
       " {'input_image': TensorSpec(shape=(None, None, None, 3), dtype=tf.float32, name='input_image'),\n",
       "  'input_image_meta': TensorSpec(shape=(None, 14), dtype=tf.float32, name='input_image_meta'),\n",
       "  'input_anchors': TensorSpec(shape=(None, None, 4), dtype=tf.float32, name='input_anchors')})"
      ]
     },
     "execution_count": 3,
     "metadata": {},
     "output_type": "execute_result"
    }
   ],
   "source": [
    "sig0 = model.signatures[\"serving_default\"].structured_input_signature\n",
    "display(sig0)\n",
    "sig = (\n",
    "    (),\n",
    "    {\n",
    "        \"input_image\": sig0[1][\"input_image\"],\n",
    "        \"input_image_meta\": sig0[1][\"input_image_meta\"],\n",
    "        \"input_anchors\": sig0[1][\"input_anchors\"],\n",
    "    },\n",
    ")\n",
    "sig"
   ]
  },
  {
   "cell_type": "code",
   "execution_count": 4,
   "metadata": {},
   "outputs": [
    {
     "data": {
      "text/plain": [
       "array([[[-0.02211869, -0.01105934,  0.02114117,  0.01008183],\n",
       "        [-0.01564027, -0.01564027,  0.01466276,  0.01466276],\n",
       "        [-0.01105934, -0.02211869,  0.01008183,  0.02114117],\n",
       "        ...,\n",
       "        [ 0.5845174 ,  0.7614669 ,  1.2913378 ,  1.1143883 ],\n",
       "        [ 0.68817204,  0.68817204,  1.1876833 ,  1.1876833 ],\n",
       "        [ 0.7614669 ,  0.5845174 ,  1.1143883 ,  1.2913378 ]]],\n",
       "      dtype=float32)"
      ]
     },
     "metadata": {},
     "output_type": "display_data"
    },
    {
     "name": "stdout",
     "output_type": "stream",
     "text": [
      "image_metas [[0.000e+00 1.024e+03 1.024e+03 3.000e+00 1.024e+03 1.024e+03 3.000e+00\n",
      "  0.000e+00 0.000e+00 1.024e+03 1.024e+03 1.000e+00 0.000e+00 0.000e+00]]\n"
     ]
    },
    {
     "data": {
      "text/plain": [
       "(1, 10, 6)"
      ]
     },
     "metadata": {},
     "output_type": "display_data"
    },
    {
     "data": {
      "text/plain": [
       "array([[[0.31554943, 0.60850537, 0.45372224, 0.69937855, 1.        ,\n",
       "         0.99838877],\n",
       "        [0.37167203, 0.4351973 , 0.39085433, 0.4648971 , 1.        ,\n",
       "         0.8981155 ],\n",
       "        [0.        , 0.        , 0.        , 0.        , 0.        ,\n",
       "         0.        ],\n",
       "        [0.        , 0.        , 0.        , 0.        , 0.        ,\n",
       "         0.        ],\n",
       "        [0.        , 0.        , 0.        , 0.        , 0.        ,\n",
       "         0.        ],\n",
       "        [0.        , 0.        , 0.        , 0.        , 0.        ,\n",
       "         0.        ],\n",
       "        [0.        , 0.        , 0.        , 0.        , 0.        ,\n",
       "         0.        ],\n",
       "        [0.        , 0.        , 0.        , 0.        , 0.        ,\n",
       "         0.        ],\n",
       "        [0.        , 0.        , 0.        , 0.        , 0.        ,\n",
       "         0.        ],\n",
       "        [0.        , 0.        , 0.        , 0.        , 0.        ,\n",
       "         0.        ]]], dtype=float32)"
      ]
     },
     "metadata": {},
     "output_type": "display_data"
    }
   ],
   "source": [
    "from pathlib import Path\n",
    "\n",
    "with Path(\"./input.py.bin\").open() as f:\n",
    "    c = f.read()\n",
    "exec(c)\n",
    "\n",
    "images = images.astype(np.float32)\n",
    "image_metas = image_metas.astype(np.float32)\n",
    "anchors = anchors.astype(np.float32)\n",
    "display(anchors)\n",
    "print(\"image_metas\", image_metas)\n",
    "display(detections.shape)\n",
    "display(detections)"
   ]
  },
  {
   "cell_type": "code",
   "execution_count": 73,
   "metadata": {},
   "outputs": [
    {
     "data": {
      "text/plain": [
       "TensorShape([1, 10, 6])"
      ]
     },
     "metadata": {},
     "output_type": "display_data"
    },
    {
     "data": {
      "text/plain": [
       "TensorShape([1, 1000, 2])"
      ]
     },
     "metadata": {},
     "output_type": "display_data"
    },
    {
     "data": {
      "text/plain": [
       "[<tf.Tensor: shape=(1, 10, 6), dtype=float32, numpy=\n",
       " array([[[0.31555408, 0.60850465, 0.45372626, 0.6993831 , 1.        ,\n",
       "          0.9983876 ],\n",
       "         [0.371672  , 0.43519884, 0.39085475, 0.46489704, 1.        ,\n",
       "          0.89809173],\n",
       "         [0.        , 0.        , 0.        , 0.        , 0.        ,\n",
       "          0.        ],\n",
       "         [0.        , 0.        , 0.        , 0.        , 0.        ,\n",
       "          0.        ],\n",
       "         [0.        , 0.        , 0.        , 0.        , 0.        ,\n",
       "          0.        ],\n",
       "         [0.        , 0.        , 0.        , 0.        , 0.        ,\n",
       "          0.        ],\n",
       "         [0.        , 0.        , 0.        , 0.        , 0.        ,\n",
       "          0.        ],\n",
       "         [0.        , 0.        , 0.        , 0.        , 0.        ,\n",
       "          0.        ],\n",
       "         [0.        , 0.        , 0.        , 0.        , 0.        ,\n",
       "          0.        ],\n",
       "         [0.        , 0.        , 0.        , 0.        , 0.        ,\n",
       "          0.        ]]], dtype=float32)>,\n",
       " <tf.Tensor: shape=(1, 1000, 2), dtype=float32, numpy=\n",
       " array([[[2.0478007e-03, 9.9795222e-01],\n",
       "         [4.6923289e-01, 5.3076708e-01],\n",
       "         [4.5620051e-01, 5.4379952e-01],\n",
       "         ...,\n",
       "         [9.3148184e-01, 6.8518102e-02],\n",
       "         [9.9665916e-01, 3.3407882e-03],\n",
       "         [9.9905413e-01, 9.4591198e-04]]], dtype=float32)>,\n",
       " <tf.Tensor: shape=(1, 1000, 2, 4), dtype=float32, numpy=\n",
       " array([[[[ 0.4020759 ,  0.7057071 ,  0.38651353, -0.48688602],\n",
       "          [-0.26914862, -0.01387456,  0.26306787, -0.14798477]],\n",
       " \n",
       "         [[ 0.5028367 ,  0.617733  , -0.12661062, -0.36480942],\n",
       "          [ 0.38644513, -0.40010333, -0.5312091 , -0.9213357 ]],\n",
       " \n",
       "         [[ 0.28516245,  0.21772783, -0.0133585 , -0.66656464],\n",
       "          [ 0.07638204,  0.47640634, -1.0641538 ,  0.40771404]],\n",
       " \n",
       "         ...,\n",
       " \n",
       "         [[ 0.71225977,  1.1122977 , -0.533129  ,  0.27510163],\n",
       "          [-0.6767202 ,  0.07125445, -0.25787202,  0.4927226 ]],\n",
       " \n",
       "         [[ 1.0084063 ,  0.06313312, -1.1444591 , -0.30781388],\n",
       "          [-1.1998742 , -0.01381216, -0.27442262,  0.610522  ]],\n",
       " \n",
       "         [[ 0.6932707 , -0.6988688 , -0.12632829, -1.3368254 ],\n",
       "          [ 0.0310016 ,  0.37475964, -2.1290772 , -0.3260936 ]]]],\n",
       "       dtype=float32)>,\n",
       " <tf.Tensor: shape=(1, 10, 28, 28, 2), dtype=float32, numpy=\n",
       " array([[[[[8.4905165e-01, 1.3777543e-03],\n",
       "           [8.1901163e-01, 1.6077796e-03],\n",
       "           [8.6243379e-01, 1.2746443e-03],\n",
       "           ...,\n",
       "           [6.6466475e-01, 1.0364111e-02],\n",
       "           [7.5941193e-01, 8.8244490e-03],\n",
       "           [6.9371623e-01, 8.7770252e-03]],\n",
       " \n",
       "          [[8.4534019e-01, 1.3162011e-03],\n",
       "           [8.5325199e-01, 1.5096134e-03],\n",
       "           [8.1007433e-01, 2.2855666e-03],\n",
       "           ...,\n",
       "           [6.9298512e-01, 8.8040195e-03],\n",
       "           [7.1564531e-01, 7.6825968e-03],\n",
       "           [7.2642678e-01, 7.5226901e-03]],\n",
       " \n",
       "          [[8.6498177e-01, 1.2992716e-03],\n",
       "           [7.8666866e-01, 2.3502377e-03],\n",
       "           [8.2989037e-01, 7.2153467e-03],\n",
       "           ...,\n",
       "           [7.7090895e-01, 4.4626924e-03],\n",
       "           [8.1949937e-01, 4.4335462e-03],\n",
       "           [6.9570839e-01, 5.7822224e-03]],\n",
       " \n",
       "          ...,\n",
       " \n",
       "          [[8.8714886e-01, 7.6093705e-04],\n",
       "           [8.6265540e-01, 1.0920813e-03],\n",
       "           [8.9721292e-01, 2.3082593e-03],\n",
       "           ...,\n",
       "           [7.6858443e-01, 3.4385253e-02],\n",
       "           [7.9772085e-01, 7.9758521e-03],\n",
       "           [8.0982697e-01, 5.3333510e-03]],\n",
       " \n",
       "          [[8.7158930e-01, 7.1319356e-04],\n",
       "           [8.5912108e-01, 5.5253343e-04],\n",
       "           [9.1354781e-01, 3.7786321e-04],\n",
       "           ...,\n",
       "           [7.7207822e-01, 2.4092522e-02],\n",
       "           [8.0779046e-01, 6.4791408e-03],\n",
       "           [7.6821017e-01, 5.1508020e-03]],\n",
       " \n",
       "          [[8.8630289e-01, 5.5578636e-04],\n",
       "           [8.9702624e-01, 4.9059314e-04],\n",
       "           [9.2059338e-01, 2.0233229e-04],\n",
       "           ...,\n",
       "           [7.8648490e-01, 1.7942501e-02],\n",
       "           [7.6817375e-01, 7.7360142e-03],\n",
       "           [7.8579175e-01, 6.8060514e-03]]],\n",
       " \n",
       " \n",
       "         [[[8.6183572e-01, 1.4673476e-03],\n",
       "           [8.3714831e-01, 1.4886020e-03],\n",
       "           [8.9227504e-01, 8.5476373e-04],\n",
       "           ...,\n",
       "           [7.0297855e-01, 6.6912817e-03],\n",
       "           [7.6552957e-01, 8.2300119e-03],\n",
       "           [7.0893216e-01, 8.7222904e-03]],\n",
       " \n",
       "          [[8.6356550e-01, 1.0794305e-03],\n",
       "           [8.7461281e-01, 1.1219318e-03],\n",
       "           [8.7557012e-01, 6.8970554e-04],\n",
       "           ...,\n",
       "           [7.3416436e-01, 8.8582113e-03],\n",
       "           [7.4228621e-01, 9.3529997e-03],\n",
       "           [7.4800569e-01, 9.5069679e-03]],\n",
       " \n",
       "          [[8.9745510e-01, 7.4031256e-04],\n",
       "           [8.5946143e-01, 7.8638160e-04],\n",
       "           [9.1656810e-01, 8.7087014e-04],\n",
       "           ...,\n",
       "           [6.9315577e-01, 1.1940112e-02],\n",
       "           [7.5758064e-01, 1.1248537e-02],\n",
       "           [6.8560022e-01, 1.0048982e-02]],\n",
       " \n",
       "          ...,\n",
       " \n",
       "          [[5.9237832e-01, 2.6692924e-01],\n",
       "           [4.8391598e-01, 4.9778488e-01],\n",
       "           [4.4435593e-01, 7.4946290e-01],\n",
       "           ...,\n",
       "           [6.7280662e-01, 1.0020158e-01],\n",
       "           [6.9245631e-01, 8.0164164e-02],\n",
       "           [7.0497429e-01, 7.1114577e-02]],\n",
       " \n",
       "          [[5.9124142e-01, 2.2547001e-01],\n",
       "           [5.1077384e-01, 3.7413099e-01],\n",
       "           [5.1986110e-01, 5.6781125e-01],\n",
       "           ...,\n",
       "           [6.3945711e-01, 6.1036341e-02],\n",
       "           [6.6136956e-01, 4.6088059e-02],\n",
       "           [6.6859078e-01, 3.9663751e-02]],\n",
       " \n",
       "          [[6.1802411e-01, 1.7564139e-01],\n",
       "           [5.5631638e-01, 2.7928632e-01],\n",
       "           [5.5973583e-01, 4.0599054e-01],\n",
       "           ...,\n",
       "           [7.2669518e-01, 3.6479324e-02],\n",
       "           [7.1788019e-01, 2.9570561e-02],\n",
       "           [7.4310857e-01, 3.0103439e-02]]],\n",
       " \n",
       " \n",
       "         [[[6.7283887e-01, 5.3846326e-02],\n",
       "           [6.7719978e-01, 4.9156860e-02],\n",
       "           [6.9776666e-01, 5.5055849e-02],\n",
       "           ...,\n",
       "           [6.5642929e-01, 4.7907803e-02],\n",
       "           [6.6528851e-01, 5.4538768e-02],\n",
       "           [6.5255970e-01, 5.2216414e-02]],\n",
       " \n",
       "          [[6.7622477e-01, 5.4373287e-02],\n",
       "           [6.8907619e-01, 5.0189260e-02],\n",
       "           [6.7296344e-01, 5.9066493e-02],\n",
       "           ...,\n",
       "           [6.8548137e-01, 4.9072478e-02],\n",
       "           [6.7155761e-01, 5.1707648e-02],\n",
       "           [6.9724172e-01, 5.0976679e-02]],\n",
       " \n",
       "          [[6.8748152e-01, 6.0769971e-02],\n",
       "           [6.8391323e-01, 5.5086706e-02],\n",
       "           [7.0641369e-01, 8.3403312e-02],\n",
       "           ...,\n",
       "           [6.4725047e-01, 8.0484323e-02],\n",
       "           [6.6445589e-01, 7.1622849e-02],\n",
       "           [6.3757432e-01, 6.2734529e-02]],\n",
       " \n",
       "          ...,\n",
       " \n",
       "          [[6.6644943e-01, 7.9852439e-02],\n",
       "           [6.5841186e-01, 6.8286322e-02],\n",
       "           [6.7760754e-01, 1.1014926e-01],\n",
       "           ...,\n",
       "           [6.9506556e-01, 7.7721328e-02],\n",
       "           [6.8249035e-01, 5.5487007e-02],\n",
       "           [7.0461881e-01, 5.1277291e-02]],\n",
       " \n",
       "          [[6.3970160e-01, 7.7205651e-02],\n",
       "           [6.2912405e-01, 6.7373469e-02],\n",
       "           [6.5136826e-01, 7.8681089e-02],\n",
       "           ...,\n",
       "           [6.4580870e-01, 6.2009986e-02],\n",
       "           [6.6455102e-01, 4.8858166e-02],\n",
       "           [6.5861690e-01, 4.7458854e-02]],\n",
       " \n",
       "          [[6.6793388e-01, 6.9176920e-02],\n",
       "           [6.7160982e-01, 5.8653563e-02],\n",
       "           [6.6185039e-01, 7.3026992e-02],\n",
       "           ...,\n",
       "           [6.8761665e-01, 5.3710613e-02],\n",
       "           [6.9173932e-01, 4.5144420e-02],\n",
       "           [7.0753598e-01, 4.5454439e-02]]],\n",
       " \n",
       " \n",
       "         ...,\n",
       " \n",
       " \n",
       "         [[[6.7283887e-01, 5.3846326e-02],\n",
       "           [6.7719978e-01, 4.9156860e-02],\n",
       "           [6.9776666e-01, 5.5055849e-02],\n",
       "           ...,\n",
       "           [6.5642929e-01, 4.7907803e-02],\n",
       "           [6.6528851e-01, 5.4538768e-02],\n",
       "           [6.5255970e-01, 5.2216414e-02]],\n",
       " \n",
       "          [[6.7622477e-01, 5.4373287e-02],\n",
       "           [6.8907619e-01, 5.0189260e-02],\n",
       "           [6.7296344e-01, 5.9066493e-02],\n",
       "           ...,\n",
       "           [6.8548137e-01, 4.9072478e-02],\n",
       "           [6.7155761e-01, 5.1707648e-02],\n",
       "           [6.9724172e-01, 5.0976679e-02]],\n",
       " \n",
       "          [[6.8748152e-01, 6.0769971e-02],\n",
       "           [6.8391323e-01, 5.5086706e-02],\n",
       "           [7.0641369e-01, 8.3403312e-02],\n",
       "           ...,\n",
       "           [6.4725047e-01, 8.0484323e-02],\n",
       "           [6.6445589e-01, 7.1622849e-02],\n",
       "           [6.3757432e-01, 6.2734529e-02]],\n",
       " \n",
       "          ...,\n",
       " \n",
       "          [[6.6644943e-01, 7.9852439e-02],\n",
       "           [6.5841186e-01, 6.8286322e-02],\n",
       "           [6.7760754e-01, 1.1014926e-01],\n",
       "           ...,\n",
       "           [6.9506556e-01, 7.7721328e-02],\n",
       "           [6.8249035e-01, 5.5487007e-02],\n",
       "           [7.0461881e-01, 5.1277291e-02]],\n",
       " \n",
       "          [[6.3970160e-01, 7.7205651e-02],\n",
       "           [6.2912405e-01, 6.7373469e-02],\n",
       "           [6.5136826e-01, 7.8681089e-02],\n",
       "           ...,\n",
       "           [6.4580870e-01, 6.2009986e-02],\n",
       "           [6.6455102e-01, 4.8858166e-02],\n",
       "           [6.5861690e-01, 4.7458854e-02]],\n",
       " \n",
       "          [[6.6793388e-01, 6.9176920e-02],\n",
       "           [6.7160982e-01, 5.8653563e-02],\n",
       "           [6.6185039e-01, 7.3026992e-02],\n",
       "           ...,\n",
       "           [6.8761665e-01, 5.3710613e-02],\n",
       "           [6.9173932e-01, 4.5144420e-02],\n",
       "           [7.0753598e-01, 4.5454439e-02]]],\n",
       " \n",
       " \n",
       "         [[[6.7283887e-01, 5.3846326e-02],\n",
       "           [6.7719978e-01, 4.9156860e-02],\n",
       "           [6.9776666e-01, 5.5055849e-02],\n",
       "           ...,\n",
       "           [6.5642929e-01, 4.7907803e-02],\n",
       "           [6.6528851e-01, 5.4538768e-02],\n",
       "           [6.5255970e-01, 5.2216414e-02]],\n",
       " \n",
       "          [[6.7622477e-01, 5.4373287e-02],\n",
       "           [6.8907619e-01, 5.0189260e-02],\n",
       "           [6.7296344e-01, 5.9066493e-02],\n",
       "           ...,\n",
       "           [6.8548137e-01, 4.9072478e-02],\n",
       "           [6.7155761e-01, 5.1707648e-02],\n",
       "           [6.9724172e-01, 5.0976679e-02]],\n",
       " \n",
       "          [[6.8748152e-01, 6.0769971e-02],\n",
       "           [6.8391323e-01, 5.5086706e-02],\n",
       "           [7.0641369e-01, 8.3403312e-02],\n",
       "           ...,\n",
       "           [6.4725047e-01, 8.0484323e-02],\n",
       "           [6.6445589e-01, 7.1622849e-02],\n",
       "           [6.3757432e-01, 6.2734529e-02]],\n",
       " \n",
       "          ...,\n",
       " \n",
       "          [[6.6644943e-01, 7.9852439e-02],\n",
       "           [6.5841186e-01, 6.8286322e-02],\n",
       "           [6.7760754e-01, 1.1014926e-01],\n",
       "           ...,\n",
       "           [6.9506556e-01, 7.7721328e-02],\n",
       "           [6.8249035e-01, 5.5487007e-02],\n",
       "           [7.0461881e-01, 5.1277291e-02]],\n",
       " \n",
       "          [[6.3970160e-01, 7.7205651e-02],\n",
       "           [6.2912405e-01, 6.7373469e-02],\n",
       "           [6.5136826e-01, 7.8681089e-02],\n",
       "           ...,\n",
       "           [6.4580870e-01, 6.2009986e-02],\n",
       "           [6.6455102e-01, 4.8858166e-02],\n",
       "           [6.5861690e-01, 4.7458854e-02]],\n",
       " \n",
       "          [[6.6793388e-01, 6.9176920e-02],\n",
       "           [6.7160982e-01, 5.8653563e-02],\n",
       "           [6.6185039e-01, 7.3026992e-02],\n",
       "           ...,\n",
       "           [6.8761665e-01, 5.3710613e-02],\n",
       "           [6.9173932e-01, 4.5144420e-02],\n",
       "           [7.0753598e-01, 4.5454439e-02]]],\n",
       " \n",
       " \n",
       "         [[[6.7283887e-01, 5.3846326e-02],\n",
       "           [6.7719978e-01, 4.9156860e-02],\n",
       "           [6.9776666e-01, 5.5055849e-02],\n",
       "           ...,\n",
       "           [6.5642929e-01, 4.7907803e-02],\n",
       "           [6.6528851e-01, 5.4538768e-02],\n",
       "           [6.5255970e-01, 5.2216414e-02]],\n",
       " \n",
       "          [[6.7622477e-01, 5.4373287e-02],\n",
       "           [6.8907619e-01, 5.0189260e-02],\n",
       "           [6.7296344e-01, 5.9066493e-02],\n",
       "           ...,\n",
       "           [6.8548137e-01, 4.9072478e-02],\n",
       "           [6.7155761e-01, 5.1707648e-02],\n",
       "           [6.9724172e-01, 5.0976679e-02]],\n",
       " \n",
       "          [[6.8748152e-01, 6.0769971e-02],\n",
       "           [6.8391323e-01, 5.5086706e-02],\n",
       "           [7.0641369e-01, 8.3403312e-02],\n",
       "           ...,\n",
       "           [6.4725047e-01, 8.0484323e-02],\n",
       "           [6.6445589e-01, 7.1622849e-02],\n",
       "           [6.3757432e-01, 6.2734529e-02]],\n",
       " \n",
       "          ...,\n",
       " \n",
       "          [[6.6644943e-01, 7.9852439e-02],\n",
       "           [6.5841186e-01, 6.8286322e-02],\n",
       "           [6.7760754e-01, 1.1014926e-01],\n",
       "           ...,\n",
       "           [6.9506556e-01, 7.7721328e-02],\n",
       "           [6.8249035e-01, 5.5487007e-02],\n",
       "           [7.0461881e-01, 5.1277291e-02]],\n",
       " \n",
       "          [[6.3970160e-01, 7.7205651e-02],\n",
       "           [6.2912405e-01, 6.7373469e-02],\n",
       "           [6.5136826e-01, 7.8681089e-02],\n",
       "           ...,\n",
       "           [6.4580870e-01, 6.2009986e-02],\n",
       "           [6.6455102e-01, 4.8858166e-02],\n",
       "           [6.5861690e-01, 4.7458854e-02]],\n",
       " \n",
       "          [[6.6793388e-01, 6.9176920e-02],\n",
       "           [6.7160982e-01, 5.8653563e-02],\n",
       "           [6.6185039e-01, 7.3026992e-02],\n",
       "           ...,\n",
       "           [6.8761665e-01, 5.3710613e-02],\n",
       "           [6.9173932e-01, 4.5144420e-02],\n",
       "           [7.0753598e-01, 4.5454439e-02]]]]], dtype=float32)>,\n",
       " <tf.Tensor: shape=(1, 1000, 4), dtype=float32, numpy=\n",
       " array([[[3.1642655e-01, 6.0936826e-01, 4.5559257e-01, 7.0325863e-01],\n",
       "         [2.2001658e-01, 4.0885806e-04, 3.4892315e-01, 1.2930657e-01],\n",
       "         [2.1440426e-01, 5.2137524e-03, 3.5731921e-01, 9.7136900e-02],\n",
       "         ...,\n",
       "         [2.7273697e-01, 0.0000000e+00, 6.3060933e-01, 1.0037249e-01],\n",
       "         [6.2963402e-01, 3.8142955e-01, 6.5456408e-01, 4.0896705e-01],\n",
       "         [5.9021783e-01, 1.0378052e-01, 7.1170926e-01, 1.6043539e-01]]],\n",
       "       dtype=float32)>,\n",
       " <tf.Tensor: shape=(1, 261888, 2), dtype=float32, numpy=\n",
       " array([[[9.7783273e-01, 2.2167271e-02],\n",
       "         [9.8589087e-01, 1.4109202e-02],\n",
       "         [9.8477870e-01, 1.5221236e-02],\n",
       "         ...,\n",
       "         [9.9453497e-01, 5.4650744e-03],\n",
       "         [9.9915695e-01, 8.4309134e-04],\n",
       "         [9.9923885e-01, 7.6120946e-04]]], dtype=float32)>,\n",
       " <tf.Tensor: shape=(1, 261888, 4), dtype=float32, numpy=\n",
       " array([[[ 0.11669826, -0.28321627, -1.7755731 , -1.5604695 ],\n",
       "         [-0.42110288, -0.60000825,  0.41200164, -0.69871867],\n",
       "         [-0.06938961, -0.97151804, -0.20370468, -3.3210504 ],\n",
       "         ...,\n",
       "         [-1.3271576 ,  0.2614389 ,  4.830498  ,  8.2750845 ],\n",
       "         [ 0.4225735 ,  1.320798  ,  7.8054495 ,  7.203554  ],\n",
       "         [ 0.63625735, -0.26354593,  9.584186  ,  6.921233  ]]],\n",
       "       dtype=float32)>]"
      ]
     },
     "metadata": {},
     "output_type": "display_data"
    }
   ],
   "source": [
    "input_image = tf.convert_to_tensor(images.astype(np.float32), name=\"input_image\")\n",
    "# input_image = tf.convert_to_tensor(np.random.uniform(0,1,size=(1,1024,1024,3)).astype(np.float32), name=\"input_image\")\n",
    "\n",
    "input_image_meta = tf.convert_to_tensor(\n",
    "    image_metas.astype(np.float32), name=\"input_image_meta\"\n",
    ")\n",
    "input_anchors = tf.convert_to_tensor(anchors.astype(np.float32), name=\"input_anchors\")\n",
    "\n",
    "result = model([input_image, input_image_meta, input_anchors])\n",
    "display(result[0].shape)\n",
    "display(result[1].shape)\n",
    "display(result)"
   ]
  },
  {
   "cell_type": "code",
   "execution_count": 80,
   "metadata": {},
   "outputs": [
    {
     "name": "stderr",
     "output_type": "stream",
     "text": [
      "\u001b[0;93m2025-01-13 14:31:10.931094008 [W:onnxruntime:Default, upsamplebase.h:178 UpsampleBase] `tf_half_pixel_for_nn` is deprecated since opset 13, yet this opset 13 model uses the deprecated attribute\u001b[m\n",
      "\u001b[0;93m2025-01-13 14:31:10.931123914 [W:onnxruntime:Default, upsamplebase.h:178 UpsampleBase] `tf_half_pixel_for_nn` is deprecated since opset 13, yet this opset 13 model uses the deprecated attribute\u001b[m\n",
      "\u001b[0;93m2025-01-13 14:31:10.931141336 [W:onnxruntime:Default, upsamplebase.h:178 UpsampleBase] `tf_half_pixel_for_nn` is deprecated since opset 13, yet this opset 13 model uses the deprecated attribute\u001b[m\n"
     ]
    },
    {
     "name": "stdout",
     "output_type": "stream",
     "text": [
      "Output #0\n"
     ]
    },
    {
     "data": {
      "text/plain": [
       "numpy.ndarray"
      ]
     },
     "metadata": {},
     "output_type": "display_data"
    },
    {
     "data": {
      "text/plain": [
       "(1, 1000, 4)"
      ]
     },
     "metadata": {},
     "output_type": "display_data"
    },
    {
     "data": {
      "text/plain": [
       "array([0.3164233 , 0.60936385, 0.45559508, 0.70325935], dtype=float32)"
      ]
     },
     "metadata": {},
     "output_type": "display_data"
    },
    {
     "name": "stdout",
     "output_type": "stream",
     "text": [
      "Output #1\n"
     ]
    },
    {
     "data": {
      "text/plain": [
       "numpy.ndarray"
      ]
     },
     "metadata": {},
     "output_type": "display_data"
    },
    {
     "data": {
      "text/plain": [
       "(1, 1000, 2, 4)"
      ]
     },
     "metadata": {},
     "output_type": "display_data"
    },
    {
     "data": {
      "text/plain": [
       "array([[ 0.40184537,  0.7056952 ,  0.38650918, -0.48679277],\n",
       "       [-0.26935092, -0.01402999,  0.2630914 , -0.14798962]],\n",
       "      dtype=float32)"
      ]
     },
     "metadata": {},
     "output_type": "display_data"
    },
    {
     "name": "stdout",
     "output_type": "stream",
     "text": [
      "Output #2\n"
     ]
    },
    {
     "data": {
      "text/plain": [
       "numpy.ndarray"
      ]
     },
     "metadata": {},
     "output_type": "display_data"
    },
    {
     "data": {
      "text/plain": [
       "(1, 1000, 2)"
      ]
     },
     "metadata": {},
     "output_type": "display_data"
    },
    {
     "data": {
      "text/plain": [
       "array([0.00204786, 0.99795216], dtype=float32)"
      ]
     },
     "metadata": {},
     "output_type": "display_data"
    },
    {
     "name": "stdout",
     "output_type": "stream",
     "text": [
      "Output #3\n"
     ]
    },
    {
     "data": {
      "text/plain": [
       "numpy.ndarray"
      ]
     },
     "metadata": {},
     "output_type": "display_data"
    },
    {
     "data": {
      "text/plain": [
       "(1, 10, 6)"
      ]
     },
     "metadata": {},
     "output_type": "display_data"
    },
    {
     "data": {
      "text/plain": [
       "array([0.31554943, 0.60850537, 0.45372227, 0.69937855, 1.        ,\n",
       "       0.99838877], dtype=float32)"
      ]
     },
     "metadata": {},
     "output_type": "display_data"
    },
    {
     "name": "stdout",
     "output_type": "stream",
     "text": [
      "Output #4\n"
     ]
    },
    {
     "data": {
      "text/plain": [
       "numpy.ndarray"
      ]
     },
     "metadata": {},
     "output_type": "display_data"
    },
    {
     "data": {
      "text/plain": [
       "(1, 10, 28, 28, 2)"
      ]
     },
     "metadata": {},
     "output_type": "display_data"
    },
    {
     "data": {
      "text/plain": [
       "array([[[8.49034011e-01, 1.37859583e-03],\n",
       "        [8.19015861e-01, 1.60899758e-03],\n",
       "        [8.62450719e-01, 1.27443671e-03],\n",
       "        ...,\n",
       "        [6.64726794e-01, 1.03673935e-02],\n",
       "        [7.59411395e-01, 8.82777572e-03],\n",
       "        [6.93753421e-01, 8.77982378e-03]],\n",
       "\n",
       "       [[8.45319629e-01, 1.31720304e-03],\n",
       "        [8.53242993e-01, 1.51076913e-03],\n",
       "        [8.10041666e-01, 2.28604674e-03],\n",
       "        ...,\n",
       "        [6.92928374e-01, 8.81001353e-03],\n",
       "        [7.15581775e-01, 7.69042969e-03],\n",
       "        [7.26393819e-01, 7.52970576e-03]],\n",
       "\n",
       "       [[8.64932299e-01, 1.29991770e-03],\n",
       "        [7.86647856e-01, 2.35298276e-03],\n",
       "        [8.29801261e-01, 7.22452998e-03],\n",
       "        ...,\n",
       "        [7.70873547e-01, 4.46817279e-03],\n",
       "        [8.19448829e-01, 4.43759561e-03],\n",
       "        [6.95674479e-01, 5.78859448e-03]],\n",
       "\n",
       "       ...,\n",
       "\n",
       "       [[8.87131333e-01, 7.60823488e-04],\n",
       "        [8.62635672e-01, 1.09210610e-03],\n",
       "        [8.97188783e-01, 2.30851769e-03],\n",
       "        ...,\n",
       "        [7.68376708e-01, 3.45145464e-02],\n",
       "        [7.97562599e-01, 8.00490379e-03],\n",
       "        [8.09737563e-01, 5.34865260e-03]],\n",
       "\n",
       "       [[8.71577978e-01, 7.13109970e-04],\n",
       "        [8.59116912e-01, 5.52654266e-04],\n",
       "        [9.13541079e-01, 3.77804041e-04],\n",
       "        ...,\n",
       "        [7.71886587e-01, 2.41823494e-02],\n",
       "        [8.07655871e-01, 6.49988651e-03],\n",
       "        [7.68155932e-01, 5.16429543e-03]],\n",
       "\n",
       "       [[8.86292458e-01, 5.55783510e-04],\n",
       "        [8.97025943e-01, 4.90665436e-04],\n",
       "        [9.20574903e-01, 2.02268362e-04],\n",
       "        ...,\n",
       "        [7.86330104e-01, 1.80003345e-02],\n",
       "        [7.68033028e-01, 7.75885582e-03],\n",
       "        [7.85686851e-01, 6.82196021e-03]]], dtype=float32)"
      ]
     },
     "metadata": {},
     "output_type": "display_data"
    },
    {
     "name": "stdout",
     "output_type": "stream",
     "text": [
      "Output #5\n"
     ]
    },
    {
     "data": {
      "text/plain": [
       "numpy.ndarray"
      ]
     },
     "metadata": {},
     "output_type": "display_data"
    },
    {
     "data": {
      "text/plain": [
       "(1, 261888, 4)"
      ]
     },
     "metadata": {},
     "output_type": "display_data"
    },
    {
     "data": {
      "text/plain": [
       "array([ 0.11690706, -0.2829972 , -1.7754984 , -1.5602344 ], dtype=float32)"
      ]
     },
     "metadata": {},
     "output_type": "display_data"
    },
    {
     "name": "stdout",
     "output_type": "stream",
     "text": [
      "Output #6\n"
     ]
    },
    {
     "data": {
      "text/plain": [
       "numpy.ndarray"
      ]
     },
     "metadata": {},
     "output_type": "display_data"
    },
    {
     "data": {
      "text/plain": [
       "(1, 261888, 2)"
      ]
     },
     "metadata": {},
     "output_type": "display_data"
    },
    {
     "data": {
      "text/plain": [
       "array([0.97783536, 0.02216464], dtype=float32)"
      ]
     },
     "metadata": {},
     "output_type": "display_data"
    }
   ],
   "source": [
    "import onnx\n",
    "\n",
    "onnx_model_path = \"../models/camera0/segmentation/saved_model.onnx\"\n",
    "onnx_model = onnx.load(onnx_model_path)\n",
    "onnx.checker.check_model(onnx_model)\n",
    "\n",
    "import onnxruntime as ort\n",
    "\n",
    "ort_sess = ort.InferenceSession(onnx_model_path)\n",
    "outputs = ort_sess.run(\n",
    "    None,\n",
    "    {\"input_image\": images, \"input_image_meta\": image_metas, \"input_anchors\": anchors},\n",
    ")\n",
    "\n",
    "# Print Result\n",
    "for i, output in enumerate(outputs):\n",
    "    print(f\"Output #{i}\")\n",
    "    display(type(output))\n",
    "    display(output.shape)\n",
    "    display(output[0, 0])"
   ]
  }
 ],
 "metadata": {
  "kernelspec": {
   "display_name": "env",
   "language": "python",
   "name": "python3"
  },
  "language_info": {
   "codemirror_mode": {
    "name": "ipython",
    "version": 3
   },
   "file_extension": ".py",
   "mimetype": "text/x-python",
   "name": "python",
   "nbconvert_exporter": "python",
   "pygments_lexer": "ipython3",
   "version": "3.11.11"
  }
 },
 "nbformat": 4,
 "nbformat_minor": 2
}
